{
  "nbformat": 4,
  "nbformat_minor": 0,
  "metadata": {
    "colab": {
      "name": "orderbrushing.ipynb",
      "provenance": [],
      "private_outputs": true,
      "collapsed_sections": []
    },
    "kernelspec": {
      "name": "python3",
      "display_name": "Python 3"
    },
    "accelerator": "GPU"
  },
  "cells": [
    {
      "cell_type": "code",
      "metadata": {
        "id": "GygzK2IVrXLp",
        "colab_type": "code",
        "colab": {}
      },
      "source": [
        "import numpy as np # linear algebra\n",
        "import pandas as pd # data processing, CSV file\n",
        "\n",
        "import os\n",
        "for dirname, _, filenames in os.walk('/kaggle/input'):\n",
        "    for filename in filenames:\n",
        "        print(os.path.join(dirname, filename))"
      ],
      "execution_count": 0,
      "outputs": []
    },
    {
      "cell_type": "code",
      "metadata": {
        "id": "ck1poDTNEraE",
        "colab_type": "code",
        "colab": {}
      },
      "source": [
        "\n",
        "## Load dataset\n",
        "df = pd.read_csv('order_brush_order.csv')"
      ],
      "execution_count": 0,
      "outputs": []
    },
    {
      "cell_type": "code",
      "metadata": {
        "id": "Zp2baT5CE5mn",
        "colab_type": "code",
        "colab": {}
      },
      "source": [
        "df.head()"
      ],
      "execution_count": 0,
      "outputs": []
    },
    {
      "cell_type": "code",
      "metadata": {
        "id": "P-ZuYC9rE8Cs",
        "colab_type": "code",
        "colab": {}
      },
      "source": [
        "df.describe()"
      ],
      "execution_count": 0,
      "outputs": []
    },
    {
      "cell_type": "code",
      "metadata": {
        "id": "eYWTfAqGE-q8",
        "colab_type": "code",
        "colab": {}
      },
      "source": [
        "df['shopid'].nunique()"
      ],
      "execution_count": 0,
      "outputs": []
    },
    {
      "cell_type": "code",
      "metadata": {
        "id": "29VvIpi5FFEJ",
        "colab_type": "code",
        "colab": {}
      },
      "source": [
        "df['userid'].nunique()"
      ],
      "execution_count": 0,
      "outputs": []
    },
    {
      "cell_type": "code",
      "metadata": {
        "id": "mGboMigqFJeh",
        "colab_type": "code",
        "colab": {}
      },
      "source": [
        "df.groupby('shopid')['orderid'].count().mean()"
      ],
      "execution_count": 0,
      "outputs": []
    },
    {
      "cell_type": "code",
      "metadata": {
        "id": "_6auiLD1FOIe",
        "colab_type": "code",
        "colab": {}
      },
      "source": [
        "## Minimum time \n",
        "df[df['event_time'] == df['event_time'].min()]"
      ],
      "execution_count": 0,
      "outputs": []
    },
    {
      "cell_type": "code",
      "metadata": {
        "id": "dTJagIKFFQwc",
        "colab_type": "code",
        "colab": {}
      },
      "source": [
        "## Set event_time as index \n",
        "df_time = df.set_index(pd.DatetimeIndex(df['event_time'])).drop('event_time', axis=1)\n",
        "df_time = df_time.sort_index()\n",
        "\n",
        "## Groupby shopid, userid, and event_time 60 min intervals, count order(s)\n",
        "grouped_orders = df_time.groupby(['shopid', 'userid', pd.Grouper(freq='60min', label='left', base=0)]).count()"
      ],
      "execution_count": 0,
      "outputs": []
    },
    {
      "cell_type": "code",
      "metadata": {
        "id": "zlAKrDIMFV4K",
        "colab_type": "code",
        "colab": {}
      },
      "source": [
        "## Find shopid that possibly do order brushing, given a threshold\n",
        "possible_brush = grouped_orders[grouped_orders.orderid > 2]\n",
        "\n",
        "userids = []\n",
        "possible_brush.reset_index().groupby('shopid')['userid'].apply(lambda x: userids.append(x.values))\n",
        "len(userids)"
      ],
      "execution_count": 0,
      "outputs": []
    },
    {
      "cell_type": "code",
      "metadata": {
        "id": "_VnyTsBkFXts",
        "colab_type": "code",
        "colab": {}
      },
      "source": [
        "possible_brush.reset_index().shopid.nunique()"
      ],
      "execution_count": 0,
      "outputs": []
    },
    {
      "cell_type": "code",
      "metadata": {
        "id": "6EE-Hy0CFcjt",
        "colab_type": "code",
        "colab": {}
      },
      "source": [
        "def concat_and(arr):\n",
        "    res = '&'.join(str(x) for x in arr)\n",
        "    return res\n",
        "\n",
        "concat_userids = []\n",
        "for element in userids:\n",
        "    concat_userids.append(concat_and(element))\n",
        "\n",
        "res_df = pd.DataFrame({\"shopid\": possible_brush.reset_index()['shopid'].unique(), \"userid\": concat_userids})\n",
        "res_df.head()"
      ],
      "execution_count": 0,
      "outputs": []
    },
    {
      "cell_type": "code",
      "metadata": {
        "id": "jayEh5XbFfP2",
        "colab_type": "code",
        "colab": {}
      },
      "source": [
        "## Final answer\n",
        "default_df = pd.DataFrame({'shopid': df['shopid'].unique(), 'userid': 0})\n",
        "default_df.head()"
      ],
      "execution_count": 0,
      "outputs": []
    },
    {
      "cell_type": "code",
      "metadata": {
        "id": "93idkutOFhgB",
        "colab_type": "code",
        "colab": {}
      },
      "source": [
        "res_df.head()"
      ],
      "execution_count": 0,
      "outputs": []
    },
    {
      "cell_type": "code",
      "metadata": {
        "id": "XwXm5kZIFjko",
        "colab_type": "code",
        "colab": {}
      },
      "source": [
        "res_df.shape"
      ],
      "execution_count": 0,
      "outputs": []
    },
    {
      "cell_type": "code",
      "metadata": {
        "id": "Jd9Lub7EFlRK",
        "colab_type": "code",
        "colab": {}
      },
      "source": [
        "## Export Result\n",
        "sol_df = pd.concat([default_df[~default_df.shopid.isin(res_df.shopid)], res_df])\n",
        "sol_df.to_csv(\"solution_3.csv\", index=False)"
      ],
      "execution_count": 0,
      "outputs": []
    },
    {
      "cell_type": "code",
      "metadata": {
        "id": "VMKb31NIFnb7",
        "colab_type": "code",
        "colab": {}
      },
      "source": [
        "## Check result\n",
        "pd.read_csv(\"solution_3.csv\")"
      ],
      "execution_count": 0,
      "outputs": []
    }
  ]
}